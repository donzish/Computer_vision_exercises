{
  "nbformat": 4,
  "nbformat_minor": 0,
  "metadata": {
    "colab": {
      "name": "E05_donzella_marco_829358.ipynb",
      "provenance": [],
      "collapsed_sections": []
    },
    "kernelspec": {
      "name": "python3",
      "display_name": "Python 3"
    },
    "language_info": {
      "name": "python"
    },
    "accelerator": "GPU"
  },
  "cells": [
    {
      "cell_type": "markdown",
      "source": [
        "# Assignement E05 - DSIM\n",
        "\n",
        "*Marco Donzella*"
      ],
      "metadata": {
        "id": "dDzSFHZeuQXM"
      }
    },
    {
      "cell_type": "markdown",
      "source": [
        "Implement an image classification neural network , following the guidelines shown during the laboratory.\n",
        "\n",
        "Rules:\n",
        "\n",
        "1. Classify both the MNIST and CIFAR10 datasets\n",
        "2. Adhere to the following architecture:\n",
        "- Explicit input layer\n",
        "- Convolution (2D) with 32 3×3 filters\n",
        "- ReLU\n",
        "- Max pooling (2D) with a 2×2 filter\n",
        "- Flattening\n",
        "- Fully-connected mapping to 128 dimensions\n",
        "- ReLU\n",
        "- Fully-connected mapping to the final problem size\n",
        "\n",
        "Submission:\n",
        "\n",
        "1. Notebook with well-commented steps and observations on the results.\n",
        "2. If you submit a .py script instead of a notebook, attach a short report for the observations on the results.\n",
        "3. Name the submitted file as: E05_surname_name_studentID"
      ],
      "metadata": {
        "id": "bwwMcUoduP6F"
      }
    },
    {
      "cell_type": "markdown",
      "source": [
        "## MNIST dataset\n",
        "\n",
        "Nel seguente link vengono riportate tutte le informazioni relative al dataset *MNIST*: https://keras.io/api/datasets/mnist/."
      ],
      "metadata": {
        "id": "PYpMKyuZvkAM"
      }
    },
    {
      "cell_type": "markdown",
      "source": [
        "*N.B.: assicurarsi di aver cambiato il tipo di runtime in GPU nelle impostazioni.*"
      ],
      "metadata": {
        "id": "tUxpDNOFdyCB"
      }
    },
    {
      "cell_type": "code",
      "execution_count": 1,
      "metadata": {
        "id": "5uCNex7Xt50Q"
      },
      "outputs": [],
      "source": [
        "# Runtime -> change runtime type -> GPU\n",
        "from tensorflow import keras"
      ]
    },
    {
      "cell_type": "code",
      "source": [
        "import numpy as np\n",
        "from skimage import io # Input/output\n",
        "from matplotlib import pyplot as plt\n",
        "from sklearn.metrics import classification_report, confusion_matrix"
      ],
      "metadata": {
        "id": "T0drzNcvu2uY"
      },
      "execution_count": 2,
      "outputs": []
    },
    {
      "cell_type": "markdown",
      "source": [
        "Viene caricato il dataset MNIST disponibile in keras:"
      ],
      "metadata": {
        "id": "as-6vJ2eWnUB"
      }
    },
    {
      "cell_type": "code",
      "source": [
        "(x_train, y_train), (x_test, y_test) = keras.datasets.mnist.load_data() # dataset"
      ],
      "metadata": {
        "id": "l46KqWWsu3MS"
      },
      "execution_count": 25,
      "outputs": []
    },
    {
      "cell_type": "markdown",
      "source": [
        "Viene aggiunta l'informazione riguardante il canale ai due dataset, così da poter lavorare con algoritmi già costruiti. Si procede poi con la trasformazione dei numeri da formato *int* a *float* (si divide per 255.0 così da ottenere numeri compresi tra 0 e 1)."
      ],
      "metadata": {
        "id": "FdiBmx_HXADS"
      }
    },
    {
      "cell_type": "code",
      "source": [
        "x_train = np.expand_dims(x_train, axis=-1) # train\n",
        "x_test = np.expand_dims(x_test, axis=-1) # test"
      ],
      "metadata": {
        "id": "gkUZfJgZu3j_"
      },
      "execution_count": 26,
      "outputs": []
    },
    {
      "cell_type": "code",
      "source": [
        "x_train = x_train.astype('float32')/255.0 \n",
        "x_test = x_test.astype('float32')/255.0"
      ],
      "metadata": {
        "id": "9ljWoEdQu35_"
      },
      "execution_count": 27,
      "outputs": []
    },
    {
      "cell_type": "markdown",
      "source": [
        "La variabile d'interesse *y* viene convertita e riscritta tramite la tipologia 'one-hot encoding', sia nel dataset di training che nel test set:"
      ],
      "metadata": {
        "id": "vaehqqLIX6vC"
      }
    },
    {
      "cell_type": "code",
      "source": [
        "yc_train = keras.utils.to_categorical(y_train, 10) # vettore lungo 10\n",
        "yc_test = keras.utils.to_categorical(y_test, 10)"
      ],
      "metadata": {
        "id": "KLabSzU8vbD2"
      },
      "execution_count": 28,
      "outputs": []
    },
    {
      "cell_type": "markdown",
      "source": [
        "Si procede ora con la costruzione del classificatore e la sua, successiva, ottimizzazione:"
      ],
      "metadata": {
        "id": "uP5Dq4RYYb6p"
      }
    },
    {
      "cell_type": "code",
      "source": [
        "model = keras.Sequential()\n",
        "model.add(keras.Input((28,28,1))) # input layer esplicito\n",
        "model.add(keras.layers.Conv2D(32, kernel_size=(3,3), activation='relu')) # layer di convoluzione 2d con 32 filtri 3x3 + attivazione relu\n",
        "model.add(keras.layers.MaxPooling2D(pool_size=(2,2))) # maxpooling 2d con filtro 2x2\n",
        "model.add(keras.layers.Flatten()) # flattening\n",
        "model.add(keras.layers.Dense(128, activation='relu')) # fully connected 128 neuroni (funzione di attivazione relu)\n",
        "model.add(keras.layers.Dense(10, activation='softmax')) # fully connected che mappa alla soluzione del problema"
      ],
      "metadata": {
        "id": "xC_GMh4Ygsin"
      },
      "execution_count": 29,
      "outputs": []
    },
    {
      "cell_type": "code",
      "source": [
        "model.compile(loss=keras.losses.categorical_crossentropy, \n",
        "              optimizer = 'Adam', \n",
        "              metrics = ['accuracy'])"
      ],
      "metadata": {
        "id": "Ju-XOpiFv_cJ"
      },
      "execution_count": 30,
      "outputs": []
    },
    {
      "cell_type": "code",
      "source": [
        "model.fit(x_train, yc_train, batch_size=128, epochs=10, verbose=1,\n",
        "          validation_data=(x_test, yc_test))"
      ],
      "metadata": {
        "colab": {
          "base_uri": "https://localhost:8080/"
        },
        "id": "pn21wOJ0wIT6",
        "outputId": "2d231842-3ce6-4912-de2a-4a1ab75231c6"
      },
      "execution_count": 31,
      "outputs": [
        {
          "output_type": "stream",
          "name": "stdout",
          "text": [
            "Epoch 1/10\n",
            "469/469 [==============================] - 5s 9ms/step - loss: 0.2179 - accuracy: 0.9382 - val_loss: 0.0935 - val_accuracy: 0.9702\n",
            "Epoch 2/10\n",
            "469/469 [==============================] - 4s 9ms/step - loss: 0.0693 - accuracy: 0.9801 - val_loss: 0.0545 - val_accuracy: 0.9824\n",
            "Epoch 3/10\n",
            "469/469 [==============================] - 4s 9ms/step - loss: 0.0466 - accuracy: 0.9859 - val_loss: 0.0510 - val_accuracy: 0.9838\n",
            "Epoch 4/10\n",
            "469/469 [==============================] - 4s 9ms/step - loss: 0.0346 - accuracy: 0.9896 - val_loss: 0.0469 - val_accuracy: 0.9841\n",
            "Epoch 5/10\n",
            "469/469 [==============================] - 4s 9ms/step - loss: 0.0254 - accuracy: 0.9926 - val_loss: 0.0427 - val_accuracy: 0.9860\n",
            "Epoch 6/10\n",
            "469/469 [==============================] - 4s 9ms/step - loss: 0.0190 - accuracy: 0.9942 - val_loss: 0.0484 - val_accuracy: 0.9852\n",
            "Epoch 7/10\n",
            "469/469 [==============================] - 4s 9ms/step - loss: 0.0146 - accuracy: 0.9956 - val_loss: 0.0463 - val_accuracy: 0.9851\n",
            "Epoch 8/10\n",
            "469/469 [==============================] - 4s 9ms/step - loss: 0.0111 - accuracy: 0.9967 - val_loss: 0.0393 - val_accuracy: 0.9863\n",
            "Epoch 9/10\n",
            "469/469 [==============================] - 4s 9ms/step - loss: 0.0083 - accuracy: 0.9976 - val_loss: 0.0459 - val_accuracy: 0.9869\n",
            "Epoch 10/10\n",
            "469/469 [==============================] - 4s 9ms/step - loss: 0.0073 - accuracy: 0.9978 - val_loss: 0.0493 - val_accuracy: 0.9849\n"
          ]
        },
        {
          "output_type": "execute_result",
          "data": {
            "text/plain": [
              "<keras.callbacks.History at 0x7f621041ad50>"
            ]
          },
          "metadata": {},
          "execution_count": 31
        }
      ]
    },
    {
      "cell_type": "markdown",
      "source": [
        "Di seguito sono riportati migliori valori di accuracy e di loss ottenuti dal modello sul test set:"
      ],
      "metadata": {
        "id": "0Apmj1Z7ft8b"
      }
    },
    {
      "cell_type": "code",
      "source": [
        "# Evaluation\n",
        "score = model.evaluate(x_test, yc_test, verbose=0)\n",
        "print('Test loss:', score[0])\n",
        "print('Test accuracy:', score[1])"
      ],
      "metadata": {
        "colab": {
          "base_uri": "https://localhost:8080/"
        },
        "id": "a5nH8oNbdQV2",
        "outputId": "26285756-e19a-4571-9552-32c683e80ac2"
      },
      "execution_count": 32,
      "outputs": [
        {
          "output_type": "stream",
          "name": "stdout",
          "text": [
            "Test loss: 0.049338385462760925\n",
            "Test accuracy: 0.9848999977111816\n"
          ]
        }
      ]
    },
    {
      "cell_type": "markdown",
      "source": [
        "In seguito viene applicato il modello per ottenere previsioni sul test set. Ad ogni record è stata assegnata la classe a cui era associato il valore di probabilità più elevato."
      ],
      "metadata": {
        "id": "Poa67ieaf6Do"
      }
    },
    {
      "cell_type": "code",
      "source": [
        "# Inference\n",
        "yc_pred = model.predict(x_test)\n",
        "# Selection of the highest-probability class for each test sample\n",
        "y_pred = np.argmax(yc_pred, axis=1)"
      ],
      "metadata": {
        "id": "xeO1PgOlwRZU"
      },
      "execution_count": 33,
      "outputs": []
    },
    {
      "cell_type": "code",
      "source": [
        "# Classification report\n",
        "print('Classification report:')\n",
        "print(classification_report(y_test, y_pred))\n",
        "\n",
        "# Confusion matrix\n",
        "print('Confusion matrix:')\n",
        "cm = confusion_matrix(y_test, y_pred)\n",
        "print(cm)\n",
        "plt.imshow(cm, cmap=plt.cm.Blues)"
      ],
      "metadata": {
        "colab": {
          "base_uri": "https://localhost:8080/",
          "height": 786
        },
        "id": "aY9tKM7_wdFK",
        "outputId": "1159f85b-947d-44d0-f2ed-9c61588a411a"
      },
      "execution_count": 34,
      "outputs": [
        {
          "output_type": "stream",
          "name": "stdout",
          "text": [
            "Classification report:\n",
            "              precision    recall  f1-score   support\n",
            "\n",
            "           0       0.98      1.00      0.99       980\n",
            "           1       0.99      0.99      0.99      1135\n",
            "           2       0.98      0.99      0.98      1032\n",
            "           3       0.98      0.99      0.98      1010\n",
            "           4       0.99      0.98      0.99       982\n",
            "           5       0.99      0.99      0.99       892\n",
            "           6       0.99      0.99      0.99       958\n",
            "           7       0.98      0.97      0.98      1028\n",
            "           8       0.99      0.97      0.98       974\n",
            "           9       0.97      0.99      0.98      1009\n",
            "\n",
            "    accuracy                           0.98     10000\n",
            "   macro avg       0.98      0.98      0.98     10000\n",
            "weighted avg       0.98      0.98      0.98     10000\n",
            "\n",
            "Confusion matrix:\n",
            "[[ 978    0    0    0    0    1    0    1    0    0]\n",
            " [   0 1128    2    1    0    0    2    1    1    0]\n",
            " [   2    2 1019    1    1    0    1    4    2    0]\n",
            " [   0    0    1 1000    0    5    0    3    0    1]\n",
            " [   1    0    2    0  963    0    2    1    2   11]\n",
            " [   1    0    0   10    0  880    1    0    0    0]\n",
            " [   5    2    0    0    1    2  946    0    2    0]\n",
            " [   0    4   11    4    0    0    0  999    2    8]\n",
            " [   6    0    3    6    0    3    1    4  940   11]\n",
            " [   1    0    0    3    4    1    0    3    1  996]]\n"
          ]
        },
        {
          "output_type": "execute_result",
          "data": {
            "text/plain": [
              "<matplotlib.image.AxesImage at 0x7f612bb45590>"
            ]
          },
          "metadata": {},
          "execution_count": 34
        },
        {
          "output_type": "display_data",
          "data": {
            "image/png": "[encoded data removed]",
            "text/plain": [
              "<Figure size 432x288 with 1 Axes>"
            ]
          },
          "metadata": {
            "needs_background": "light"
          }
        }
      ]
    },
    {
      "cell_type": "markdown",
      "source": [
        "Il modello risulta abbastanza efficiente nel classificare i dati; infatti è caratterizzato da un'accuracy pari a 0.74. La matrice di confusione, presentando alcuni valori al di fuori della diagonale principale, conferma quanto detto."
      ],
      "metadata": {
        "id": "Ic2m42oVgQHO"
      }
    },
    {
      "cell_type": "markdown",
      "source": [
        "## CIFAR10 dataset\n",
        "\n",
        "Nel seguente link vengono riportate tutte le informazione relative al dataset *CIFAR10*: https://keras.io/api/datasets/mnist/.\n",
        "\n",
        "Di seguito vengono eseguite le stesse procedure descritte prima con il dataset *MNIST*."
      ],
      "metadata": {
        "id": "iJAbHZBF0SDY"
      }
    },
    {
      "cell_type": "code",
      "source": [
        "(x_train, y_train), (x_test, y_test) = keras.datasets.cifar10.load_data()"
      ],
      "metadata": {
        "id": "khL-25BY0XLk"
      },
      "execution_count": 35,
      "outputs": []
    },
    {
      "cell_type": "code",
      "source": [
        "x_train.shape # questa volta abbiamo elementi a colori"
      ],
      "metadata": {
        "colab": {
          "base_uri": "https://localhost:8080/"
        },
        "id": "c3divrfP0tVu",
        "outputId": "727756cd-4b6a-4bd7-d69c-20ba0e9140be"
      },
      "execution_count": 36,
      "outputs": [
        {
          "output_type": "execute_result",
          "data": {
            "text/plain": [
              "(50000, 32, 32, 3)"
            ]
          },
          "metadata": {},
          "execution_count": 36
        }
      ]
    },
    {
      "cell_type": "markdown",
      "source": [
        "In questo dataset i record sono immagini a colori (quindi 1 dimensione in più rispetto a prima, ovvero quella riguardanti i 3 canali RGB). Non sarà dunque necessario aggiungere l'informazione canale in seguio, com'era stato fatto prima.\n",
        "\n",
        "Viene riportato un esempio di record:"
      ],
      "metadata": {
        "id": "ZeBrVMifjP0x"
      }
    },
    {
      "cell_type": "code",
      "source": [
        "plt.imshow(x_train[0])"
      ],
      "metadata": {
        "colab": {
          "base_uri": "https://localhost:8080/",
          "height": 283
        },
        "id": "7K51vWka05Su",
        "outputId": "e19bf561-5ce3-41b0-8c84-1fc0442b9304"
      },
      "execution_count": 15,
      "outputs": [
        {
          "output_type": "execute_result",
          "data": {
            "text/plain": [
              "<matplotlib.image.AxesImage at 0x7f61a1444910>"
            ]
          },
          "metadata": {},
          "execution_count": 15
        },
        {
          "output_type": "display_data",
          "data": {
            "image/png": "[encoded data removed]",
            "text/plain": [
              "<Figure size 432x288 with 1 Axes>"
            ]
          },
          "metadata": {
            "needs_background": "light"
          }
        }
      ]
    },
    {
      "cell_type": "code",
      "source": [
        "x_train = x_train.astype('float32')/255.0 \n",
        "x_test = x_test.astype('float32')/255.0"
      ],
      "metadata": {
        "id": "tnfU2aMA1JMx"
      },
      "execution_count": 37,
      "outputs": []
    },
    {
      "cell_type": "code",
      "source": [
        "yc_train = keras.utils.to_categorical(y_train, 10) \n",
        "yc_test = keras.utils.to_categorical(y_test, 10)"
      ],
      "metadata": {
        "id": "rOz4JdJm1a6f"
      },
      "execution_count": 38,
      "outputs": []
    },
    {
      "cell_type": "markdown",
      "source": [
        "Viene costruita una rete neurale con la stessa struttura di prima (cambia solo la dimensione dell'input):"
      ],
      "metadata": {
        "id": "kdbAbh9CoDQh"
      }
    },
    {
      "cell_type": "code",
      "source": [
        "model = keras.Sequential()\n",
        "model.add(keras.Input((32,32,3))) # input layer esplicito\n",
        "model.add(keras.layers.Conv2D(32, kernel_size=3, activation='relu')) # layer di convoluzione 2d con 32 filtri 3x3 + attivazione relu\n",
        "model.add(keras.layers.MaxPooling2D(pool_size=2)) # maxpooling 2d con filtro 2x2\n",
        "model.add(keras.layers.Flatten()) # flattening\n",
        "model.add(keras.layers.Dense(128, activation='relu')) # fully connected 128 neuroni (funzione di attivazione sigmoide)\n",
        "model.add(keras.layers.Dense(10, activation='softmax')) # fully connected che mappa alla soluzione del problema"
      ],
      "metadata": {
        "id": "UzIK33fkkKyN"
      },
      "execution_count": 39,
      "outputs": []
    },
    {
      "cell_type": "code",
      "source": [
        "model.compile(loss=keras.losses.categorical_crossentropy, \n",
        "              optimizer = 'Adam', \n",
        "              metrics = ['accuracy'])"
      ],
      "metadata": {
        "id": "pq33Duvgm7BD"
      },
      "execution_count": 40,
      "outputs": []
    },
    {
      "cell_type": "code",
      "source": [
        "model.fit(x_train, yc_train, batch_size=128, epochs=10, verbose=1,\n",
        "          validation_data=(x_test, yc_test))"
      ],
      "metadata": {
        "colab": {
          "base_uri": "https://localhost:8080/"
        },
        "outputId": "deb6e408-fbde-403b-a47e-7875509a8b9e",
        "id": "qchw6s26m_Nh"
      },
      "execution_count": 41,
      "outputs": [
        {
          "output_type": "stream",
          "name": "stdout",
          "text": [
            "Epoch 1/10\n",
            "391/391 [==============================] - 5s 10ms/step - loss: 1.6388 - accuracy: 0.4081 - val_loss: 1.3831 - val_accuracy: 0.5060\n",
            "Epoch 2/10\n",
            "391/391 [==============================] - 4s 10ms/step - loss: 1.3205 - accuracy: 0.5362 - val_loss: 1.2771 - val_accuracy: 0.5488\n",
            "Epoch 3/10\n",
            "391/391 [==============================] - 4s 9ms/step - loss: 1.2089 - accuracy: 0.5766 - val_loss: 1.2275 - val_accuracy: 0.5670\n",
            "Epoch 4/10\n",
            "391/391 [==============================] - 4s 9ms/step - loss: 1.1414 - accuracy: 0.6023 - val_loss: 1.1504 - val_accuracy: 0.5968\n",
            "Epoch 5/10\n",
            "391/391 [==============================] - 4s 9ms/step - loss: 1.0807 - accuracy: 0.6205 - val_loss: 1.1325 - val_accuracy: 0.6036\n",
            "Epoch 6/10\n",
            "391/391 [==============================] - 4s 10ms/step - loss: 1.0312 - accuracy: 0.6407 - val_loss: 1.0989 - val_accuracy: 0.6117\n",
            "Epoch 7/10\n",
            "391/391 [==============================] - 4s 10ms/step - loss: 0.9891 - accuracy: 0.6548 - val_loss: 1.0651 - val_accuracy: 0.6322\n",
            "Epoch 8/10\n",
            "391/391 [==============================] - 4s 9ms/step - loss: 0.9601 - accuracy: 0.6661 - val_loss: 1.1111 - val_accuracy: 0.6137\n",
            "Epoch 9/10\n",
            "391/391 [==============================] - 3s 9ms/step - loss: 0.9195 - accuracy: 0.6796 - val_loss: 1.0300 - val_accuracy: 0.6379\n",
            "Epoch 10/10\n",
            "391/391 [==============================] - 3s 9ms/step - loss: 0.8869 - accuracy: 0.6907 - val_loss: 1.0970 - val_accuracy: 0.6145\n"
          ]
        },
        {
          "output_type": "execute_result",
          "data": {
            "text/plain": [
              "<keras.callbacks.History at 0x7f612bc5e8d0>"
            ]
          },
          "metadata": {},
          "execution_count": 41
        }
      ]
    },
    {
      "cell_type": "code",
      "source": [
        "# Evaluation\n",
        "score = model.evaluate(x_test, yc_test, verbose=0)\n",
        "print('Test loss:', score[0])\n",
        "print('Test accuracy:', score[1])"
      ],
      "metadata": {
        "colab": {
          "base_uri": "https://localhost:8080/"
        },
        "id": "JPHECL8-m2y9",
        "outputId": "ae331603-7aac-4c2a-fb8a-16b8061da04a"
      },
      "execution_count": 42,
      "outputs": [
        {
          "output_type": "stream",
          "name": "stdout",
          "text": [
            "Test loss: 1.096992015838623\n",
            "Test accuracy: 0.6144999861717224\n"
          ]
        }
      ]
    },
    {
      "cell_type": "code",
      "source": [
        "# Inference\n",
        "yc_pred = model.predict(x_test)\n",
        "# Selection of the highest-probability class for each test sample\n",
        "y_pred = np.argmax(yc_pred, axis=1)"
      ],
      "metadata": {
        "id": "lklcGDiKm3Fu"
      },
      "execution_count": 43,
      "outputs": []
    },
    {
      "cell_type": "code",
      "source": [
        "# Classification report\n",
        "print('Classification report:')\n",
        "print(classification_report(y_test, y_pred))\n",
        "\n",
        "# Confusion matrix\n",
        "print('Confusion matrix:')\n",
        "cm = confusion_matrix(y_test, y_pred)\n",
        "print(cm)\n",
        "plt.imshow(cm, cmap=plt.cm.Blues)"
      ],
      "metadata": {
        "colab": {
          "base_uri": "https://localhost:8080/",
          "height": 786
        },
        "id": "XoHlmyvEm3aT",
        "outputId": "6657147b-91f8-401f-ab67-d6b1adb3e0a6"
      },
      "execution_count": 44,
      "outputs": [
        {
          "output_type": "stream",
          "name": "stdout",
          "text": [
            "Classification report:\n",
            "              precision    recall  f1-score   support\n",
            "\n",
            "           0       0.72      0.61      0.66      1000\n",
            "           1       0.81      0.68      0.74      1000\n",
            "           2       0.62      0.34      0.43      1000\n",
            "           3       0.50      0.37      0.42      1000\n",
            "           4       0.42      0.77      0.54      1000\n",
            "           5       0.55      0.54      0.55      1000\n",
            "           6       0.83      0.54      0.65      1000\n",
            "           7       0.57      0.79      0.67      1000\n",
            "           8       0.72      0.78      0.75      1000\n",
            "           9       0.66      0.74      0.70      1000\n",
            "\n",
            "    accuracy                           0.61     10000\n",
            "   macro avg       0.64      0.61      0.61     10000\n",
            "weighted avg       0.64      0.61      0.61     10000\n",
            "\n",
            "Confusion matrix:\n",
            "[[609  15  42  19  81   2   5  34 134  59]\n",
            " [ 31 679  12  10  16   7   4  16  48 177]\n",
            " [ 63   8 335  47 288  97  29  97  22  14]\n",
            " [ 16  11  33 368 202 197  31  94  22  26]\n",
            " [ 12   2  22  26 766  29  22 103  12   6]\n",
            " [ 10   3  36 132 116 543  12 131  11   6]\n",
            " [  7  11  28  90 224  40 537  41   6  16]\n",
            " [ 11   1  19  16  89  51   0 792   3  18]\n",
            " [ 49  44   9  13  28   9   3  12 776  57]\n",
            " [ 35  69   6  13  21   8   2  59  47 740]]\n"
          ]
        },
        {
          "output_type": "execute_result",
          "data": {
            "text/plain": [
              "<matplotlib.image.AxesImage at 0x7f612b92a410>"
            ]
          },
          "metadata": {},
          "execution_count": 44
        },
        {
          "output_type": "display_data",
          "data": {
            "image/png": "[encoded data removed]",
            "text/plain": [
              "<Figure size 432x288 with 1 Axes>"
            ]
          },
          "metadata": {
            "needs_background": "light"
          }
        }
      ]
    },
    {
      "cell_type": "markdown",
      "source": [
        "É evidente che il modello non risulta efficiente come nel caso precedente; infatti in questo l'accuracy è pari a 0.61. \n",
        "\n",
        "Per ottenere risultati migliori sarà necessario arricchire/modificare la rete con ulteriori layer o aumentare il numero di epoche."
      ],
      "metadata": {
        "id": "vWAmdmBNoO_f"
      }
    }
  ]
}